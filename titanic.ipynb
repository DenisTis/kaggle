{
 "cells": [
  {
   "cell_type": "code",
   "execution_count": 1,
   "metadata": {
    "tags": []
   },
   "outputs": [],
   "source": [
    "import pandas as pd\n",
    "import numpy as np\n",
    "from tPreprocessing import preprocess_dataset\n",
    "from sklearn.model_selection import train_test_split\n",
    "from sklearn.linear_model import LogisticRegression\n",
    "from sklearn.model_selection import GridSearchCV\n",
    "from sklearn.metrics import roc_auc_score\n",
    "RANDOM_STATE = 41"
   ]
  },
  {
   "cell_type": "code",
   "execution_count": 2,
   "metadata": {
    "tags": []
   },
   "outputs": [
    {
     "output_type": "stream",
     "name": "stdout",
     "text": "Deleted columns:  ['x1', 'x3', 'x0^2', 'x0 x1', 'x0 x3', 'x0 x4', 'x1^2', 'x1 x2', 'x2 x3', 'x3 x4', 'x0^3', 'x0^2 x1', 'x0^2 x3', 'x0 x1^2', 'x0 x1 x2', 'x0 x2^2', 'x0 x2 x3', 'x0 x2 x4', 'x0 x3^2', 'x0 x4^2', 'x1^2 x2', 'x1^2 x3', 'x1 x2^2', 'x1 x2 x3', 'x1 x3^2', 'x1 x3 x4', 'x1 x4^2', 'x2^3', 'x2^2 x3', 'x2^2 x4', 'x2 x3^2', 'x2 x3 x4', 'x3^3', 'x3^2 x4', 'x4^3', 'x0_male', 'x1_Dr', 'x1_Jonkheer', 'x1_Mme', 'x1_Mrs', 'x1_Rev']\n['1', 'x0', 'x2', 'x4', 'x0 x2', 'x1 x3', 'x1 x4', 'x2^2', 'x2 x4', 'x3^2', 'x4^2', 'x0^2 x2', 'x0^2 x4', 'x0 x1 x3', 'x0 x1 x4', 'x0 x3 x4', 'x1^3', 'x1^2 x4', 'x1 x2 x4', 'x2 x4^2', 'x3 x4^2', 'x1_Col', 'x1_Don', 'x1_Dona', 'x1_Lady', 'x1_Major', 'x1_Master', 'x1_Miss', 'x1_Mlle', 'x1_Mr', 'x1_Ms', 'x1_Sir', 'x1_th', 'x2_A/5', 'x2_A/S', 'x2_A2', 'x2_A4', 'x2_A5', 'x2_AQ/3', 'x2_AQ/4', 'x2_C', 'x2_CA', 'x2_CA/SOTON', 'x2_FC', 'x2_FCC', 'x2_Fa', 'x2_LP', 'x2_N/A', 'x2_P/PP', 'x2_PC', 'x2_PP', 'x2_SC', 'x2_SC/A3', 'x2_SC/A4', 'x2_SC/AH', 'x2_SC/AHBasle', 'x2_SC/PARIS', 'x2_SC/Paris', 'x2_SCO/W', 'x2_SO/C', 'x2_SO/PP', 'x2_SOC', 'x2_SOP', 'x2_SOTON/O2', 'x2_SOTON/OQ', 'x2_SP', 'x2_STON/O2', 'x2_STON/OQ', 'x2_SW/PP', 'x2_W/C', 'x2_WE/P', 'x2_WEP', 'x3_B', 'x3_C', 'x3_D', 'x3_E', 'x3_F', 'x3_G', 'x3_N/A', 'x3_T', 'x4_N/A', 'x4_Q', 'x4_S']\n"
    }
   ],
   "source": [
    "columns = [\"Pclass\", \"Age\", \"FamilySize\", \"Fare\", \"CabinsAmount\",\"Sex\",\"NamePrefix\", \"TicketPrefix\", \"CabinDeck\", \"Embarked\"]\n",
    "\n",
    "X_train, X_final_test, y, columnNames = preprocess_dataset(columns, dropColumn=\"first\", degree=3)\n",
    "# Test set from Kaggle does not have prediction result, so I should split training set\n",
    "X_tmp_train, X_tmp_test, y_tmp_train, y_tmp_test = train_test_split(X_train, y, random_state = RANDOM_STATE)\n",
    "print(columnNames)"
   ]
  },
  {
   "cell_type": "code",
   "execution_count": 3,
   "metadata": {
    "tags": []
   },
   "outputs": [
    {
     "output_type": "stream",
     "name": "stdout",
     "text": "CV  None Lambda  0.1 Train score  0.812874251497006 Test score  0.8385650224215246 Mean  0.8257196369592653\nHyperparameters:  LogisticRegression(C=0.1, random_state=41) Parameters:  {'C': 0.1, 'class_weight': None, 'penalty': 'l2'}\nCV  2 Lambda  0.06 Train score  0.8158682634730539 Test score  0.8385650224215246 Mean  0.8272166429472892\nHyperparameters:  LogisticRegression(C=0.06, random_state=41) Parameters:  {'C': 0.06, 'class_weight': None, 'penalty': 'l2'}\nCV  3 Lambda  0.1 Train score  0.812874251497006 Test score  0.8385650224215246 Mean  0.8257196369592653\nHyperparameters:  LogisticRegression(C=0.1, random_state=41) Parameters:  {'C': 0.1, 'class_weight': None, 'penalty': 'l2'}\nCV  4 Lambda  0.1 Train score  0.812874251497006 Test score  0.8385650224215246 Mean  0.8257196369592653\nHyperparameters:  LogisticRegression(C=0.1, random_state=41) Parameters:  {'C': 0.1, 'class_weight': None, 'penalty': 'l2'}\nCV  5 Lambda  0.1 Train score  0.812874251497006 Test score  0.8385650224215246 Mean  0.8257196369592653\nHyperparameters:  LogisticRegression(C=0.1, random_state=41) Parameters:  {'C': 0.1, 'class_weight': None, 'penalty': 'l2'}\nCV  6 Lambda  0.1 Train score  0.812874251497006 Test score  0.8385650224215246 Mean  0.8257196369592653\nHyperparameters:  LogisticRegression(C=0.1, random_state=41) Parameters:  {'C': 0.1, 'class_weight': None, 'penalty': 'l2'}\nCV  7 Lambda  0.1 Train score  0.812874251497006 Test score  0.8385650224215246 Mean  0.8257196369592653\nHyperparameters:  LogisticRegression(C=0.1, random_state=41) Parameters:  {'C': 0.1, 'class_weight': None, 'penalty': 'l2'}\n"
    }
   ],
   "source": [
    "param_grid={ 'C': [0.001, 0.005, 0.007, 0.01, 0.02, 0.03, 0.04, 0.05, 0.06, 0.1, 0.5, 1, 5, 7, 8, 9, 10],\n",
    "'class_weight':['balanced', None],\n",
    "'penalty': [\"l1\", \"l2\"]}\n",
    "cvList = [None,2,3,4,5,6,7]\n",
    "for cv in cvList:\n",
    "    optimizer = GridSearchCV(LogisticRegression(fit_intercept=True,random_state = RANDOM_STATE), param_grid, cv=cv, n_jobs=-1)\n",
    "    optimizer.fit(X_tmp_train, y_tmp_train)\n",
    "    scoreTrain = optimizer.score(X_tmp_train, y_tmp_train)\n",
    "    scoreTest = optimizer.score(X_tmp_test, y_tmp_test)\n",
    "    print(\"CV \", cv, \"Lambda \", optimizer.best_estimator_.C, \"Train score \", scoreTrain, \"Test score \", scoreTest, \"Mean \", (scoreTest+scoreTrain)/2)\n",
    "    print( \"Hyperparameters: \", optimizer.best_estimator_, \"Parameters: \", optimizer.best_params_)\n",
    "    # roc_auc_score(y_tmp_test, optimizer.predict(X_tmp_test))"
   ]
  },
  {
   "cell_type": "code",
   "execution_count": 4,
   "metadata": {
    "tags": []
   },
   "outputs": [],
   "source": [
    "## Write answer\n",
    "answer = pd.DataFrame(columns=[\"PassengerId\", \"Survived\"])\n",
    "dfTest = pd.read_csv(\"./test.csv\")\n",
    "answer[\"PassengerId\"] = dfTest[\"PassengerId\"]\n",
    "answer[\"Survived\"] = optimizer.predict(X_final_test)\n",
    "answer.to_csv(\"answer.csv\", index=False)"
   ]
  }
 ],
 "metadata": {
  "language_info": {
   "codemirror_mode": {
    "name": "ipython",
    "version": 3
   },
   "file_extension": ".py",
   "mimetype": "text/x-python",
   "name": "python",
   "nbconvert_exporter": "python",
   "pygments_lexer": "ipython3",
   "version": "3.8.2-final"
  },
  "orig_nbformat": 2,
  "kernelspec": {
   "name": "python38264bit96b614ff5c0f4c49bbe41e9ed87adbdb",
   "display_name": "Python 3.8.2 64-bit"
  }
 },
 "nbformat": 4,
 "nbformat_minor": 2
}