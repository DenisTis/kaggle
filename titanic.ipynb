{
 "cells": [
  {
   "cell_type": "code",
   "execution_count": 1,
   "metadata": {},
   "outputs": [],
   "source": [
    "import pandas as pd\n",
    "import numpy as np\n",
    "from sklearn.impute import SimpleImputer\n",
    "from sklearn.feature_extraction import DictVectorizer"
   ]
  },
  {
   "cell_type": "code",
   "execution_count": 2,
   "metadata": {},
   "outputs": [],
   "source": [
    "yColumn = \"Survived\"\n",
    "dfTrain = pd.read_csv(\"./train.csv\")\n",
    "dfTest = pd.read_csv(\"./test.csv\")\n",
    "# dfTrain = pd.read_csv(\"./train.csv\",na_values=[' ',''])\n",
    "# dfTest = pd.read_csv(\"./test.csv\",na_values=[' ',''])\n",
    "\n",
    "y = dfTrain[yColumn]\n",
    "dfTrain.drop(yColumn, axis=1, inplace=True)\n",
    "X_full = dfTrain.append(dfTest, ignore_index=True)\n",
    "#X_full.reindex([\"PassengerId\"],axis=\"columns\")\n",
    "# X_split_train = X_full.iloc[0:891]\n",
    "# X_split_test = X_full.iloc[891:1309]"
   ]
  },
  {
   "cell_type": "code",
   "execution_count": 3,
   "metadata": {},
   "outputs": [],
   "source": [
    "def adjustDataframe(dataFrame):\n",
    "##  Get name prefix\n",
    "    namePrefix = dataFrame[\"Name\"].str.split(', ', 1).str[1]\n",
    "    namePrefix = namePrefix.str.split('. ',1).str[0]\n",
    "    dataFrame[\"NamePrefix\"] = namePrefix\n",
    "##  Split ticket into numeric and prefix parts\n",
    "    spacedTicket = ' ' + dataFrame['Ticket'].astype(str)\n",
    "    ticketSplit = spacedTicket.str.rsplit(' ',1,expand=True)\n",
    "    dataFrame[\"TicketPrefix\"] = ticketSplit[0]\n",
    "    dataFrame[\"TicketPrefix\"] = dataFrame[\"TicketPrefix\"].str.replace(\".\",\"\")\n",
    "    dataFrame[\"TicketPrefix\"] = dataFrame[\"TicketPrefix\"].str.replace(\" \",\"\")\n",
    "    dataFrame[\"TicketNumber\"] = ticketSplit[1]  \n",
    "## There are multiple cabins per some of passengers - how to proceed?\n",
    "# For now I will only use deck name and amount of cabins. For later I should check how could I use multiple entries\n",
    "    dataFrame[\"CabinDeck\"] = dataFrame[\"Cabin\"].str[:1]\n",
    "    dataFrame[\"CabinsAmount\"] = dataFrame[\"Cabin\"].str.split(\" \",-1).str.len()\n",
    "\n",
    "    del namePrefix, spacedTicket, ticketSplit\n",
    "    dataFrame.drop([\"Name\", \"Ticket\", \"Cabin\"], axis=1, inplace=True)\n",
    "    return dataFrame"
   ]
  },
  {
   "cell_type": "code",
   "execution_count": 4,
   "metadata": {},
   "outputs": [],
   "source": [
    "## Fare and Pclass have highest correlations. Low correlations: Age, Parch.  SibSp and PassengerId correlation < 0.05\n",
    "#XTrain.corrwith(y)\n",
    "X_full = adjustDataframe(X_full)\n",
    "# X_full = X_full.replace(r'^\\s*$', np.nan, regex=True)\n",
    "X_full = X_full.replace(r'^\\s*$', np.nan, regex=True)"
   ]
  },
  {
   "cell_type": "markdown",
   "metadata": {},
   "source": [
    "#### Remove Nan values in all relevant columns"
   ]
  },
  {
   "cell_type": "code",
   "execution_count": 5,
   "metadata": {},
   "outputs": [],
   "source": [
    "numericColumns = [\"Pclass\", \"Age\", \"SibSp\", \"Parch\", \"Fare\", \"CabinsAmount\"]\n",
    "categoricalColumns = [\"Sex\",\"NamePrefix\", \"TicketPrefix\", \"CabinDeck\", \"Embarked\"]\n",
    "\n",
    "mean_Imputer = SimpleImputer(missing_values=np.nan, strategy='mean')\n",
    "X_numeric = mean_Imputer.fit_transform(X_full[numericColumns])\n",
    "categorical_data = X_full[categoricalColumns].fillna(\"N/A\").astype(str)\n",
    "encoder = DictVectorizer(sparse = False)\n",
    "X_categorical = encoder.fit_transform(categorical_data.T.to_dict().values())"
   ]
  },
  {
   "cell_type": "code",
   "execution_count": null,
   "metadata": {},
   "outputs": [],
   "source": []
  }
 ],
 "metadata": {
  "language_info": {
   "codemirror_mode": {
    "name": "ipython",
    "version": 3
   },
   "file_extension": ".py",
   "mimetype": "text/x-python",
   "name": "python",
   "nbconvert_exporter": "python",
   "pygments_lexer": "ipython3",
   "version": "3.8.1-final"
  },
  "orig_nbformat": 2,
  "kernelspec": {
   "name": "python38132bit0e351f7e16f44201b52fbf0158229096",
   "display_name": "Python 3.8.1 32-bit"
  }
 },
 "nbformat": 4,
 "nbformat_minor": 2
}