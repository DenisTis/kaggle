{
 "cells": [
  {
   "cell_type": "code",
   "execution_count": 5,
   "metadata": {},
   "outputs": [],
   "source": [
    "import pandas as pd\n",
    "import numpy as np\n",
    "from dataPreprocessing import preprocess_dataset\n",
    "from sklearn.model_selection import train_test_split\n",
    "from sklearn.neural_network import MLPClassifier \n",
    "from sklearn.model_selection import GridSearchCV\n",
    "from sklearn.metrics import roc_auc_score\n",
    "RANDOM_STATE = 41"
   ]
  },
  {
   "cell_type": "code",
   "execution_count": 6,
   "metadata": {
    "tags": []
   },
   "outputs": [
    {
     "output_type": "stream",
     "name": "stdout",
     "text": "Left columns:  ['1', 'x0', 'x1', 'x2', 'x3', 'x4', 'x0_female', 'x0_male', 'x1_Capt', 'x1_Col', 'x1_Don', 'x1_Dona', 'x1_Dr', 'x1_Jonkheer', 'x1_Lady', 'x1_Major', 'x1_Master', 'x1_Miss', 'x1_Mlle', 'x1_Mme', 'x1_Mr', 'x1_Mrs', 'x1_Ms', 'x1_Rev', 'x1_Sir', 'x1_th', 'x2_A/4', 'x2_A/5', 'x2_A/S', 'x2_A2', 'x2_A4', 'x2_A5', 'x2_AQ/3', 'x2_AQ/4', 'x2_C', 'x2_CA', 'x2_CA/SOTON', 'x2_FC', 'x2_FCC', 'x2_Fa', 'x2_LP', 'x2_N/A', 'x2_P/PP', 'x2_PC', 'x2_PP', 'x2_SC', 'x2_SC/A3', 'x2_SC/A4', 'x2_SC/AH', 'x2_SC/AHBasle', 'x2_SC/PARIS', 'x2_SC/Paris', 'x2_SCO/W', 'x2_SO/C', 'x2_SO/PP', 'x2_SOC', 'x2_SOP', 'x2_SOTON/O2', 'x2_SOTON/OQ', 'x2_SP', 'x2_STON/O2', 'x2_STON/OQ', 'x2_SW/PP', 'x2_W/C', 'x2_WE/P', 'x2_WEP', 'x3_A', 'x3_B', 'x3_C', 'x3_D', 'x3_E', 'x3_F', 'x3_G', 'x3_N/A', 'x3_T', 'x4_C', 'x4_N/A', 'x4_Q', 'x4_S']\n"
    }
   ],
   "source": [
    "columns = [\"Pclass\", \"Age\", \"FamilySize\", \"Fare\", \"CabinsAmount\",\"Sex\",\"NamePrefix\", \"TicketPrefix\", \"CabinDeck\", \"Embarked\"]\n",
    "X_train, X_final_test, y, columnNames = preprocess_dataset(columns, dropColumn=None, degree=1)\n",
    "X_tmp_train, X_tmp_test, y_tmp_train, y_tmp_test = train_test_split(X_train, y, random_state = RANDOM_STATE)\n",
    "print(\"Left columns: \",columnNames)"
   ]
  },
  {
   "cell_type": "code",
   "execution_count": 7,
   "metadata": {},
   "outputs": [],
   "source": [
    "layer_size = X_train.shape[1] + 1\n",
    "# parameters={ 'solver': ['lbfgs',\"sgd\"],\n",
    "# 'learning_rate': [\"constant\", \"invscaling\", \"adaptive\"],\n",
    "# 'hidden_layer_sizes': [(layer_size,1), (layer_size,2), (layer_size,3)],\n",
    "# 'max_iter': [1000,1100,1200,1300,1400,1500,1600,1700,1800,1900,2000 ],\n",
    "# 'alpha':[1e-5],\n",
    "# 'random_state': [RANDOM_STATE]}\n",
    "parameters={ 'solver': [\"sgd\",\"lbfgs\"],\n",
    "#'learning_rate': [\"constant\", \"invscaling\", \"adaptive\"],\n",
    "'hidden_layer_sizes': [(layer_size,1), (layer_size,2),(layer_size,3)],\n",
    "'max_iter': [1000, 2000 ],\n",
    "'alpha':[1e-4,1e-5,1e-6],\n",
    "'random_state': [RANDOM_STATE]}"
   ]
  },
  {
   "cell_type": "code",
   "execution_count": 8,
   "metadata": {
    "tags": []
   },
   "outputs": [
    {
     "output_type": "stream",
     "name": "stdout",
     "text": "Fitting 3 folds for each of 12 candidates, totalling 36 fits\n[Parallel(n_jobs=-1)]: Using backend LokyBackend with 8 concurrent workers.\n[Parallel(n_jobs=-1)]: Done  36 out of  36 | elapsed:   31.2s finished\nTrain:  0.8563 , Test:  0.8655 , Mean:  0.8609 , Parameters:  {'alpha': 0.0001, 'hidden_layer_sizes': (79, 1), 'max_iter': 1000, 'random_state': 41, 'solver': 'sgd'}\n"
    }
   ],
   "source": [
    "optimizer = GridSearchCV(MLPClassifier(),param_grid=parameters,n_jobs=-1,verbose=2,cv=3)\n",
    "optimizer.fit(X_tmp_train, y_tmp_train)\n",
    "scoreTrain = optimizer.score(X_tmp_train, y_tmp_train)\n",
    "scoreTest = optimizer.score(X_tmp_test, y_tmp_test)\n",
    "print(\"Train: \", round(scoreTrain,4), \", Test: \", round(scoreTest,4), \", Mean: \", round((scoreTest+scoreTrain)/2,4), \", Parameters: \", optimizer.best_params_)"
   ]
  },
  {
   "cell_type": "code",
   "execution_count": 9,
   "metadata": {},
   "outputs": [],
   "source": [
    "## Write answer\n",
    "answer = pd.DataFrame(columns=[\"PassengerId\", \"Survived\"])\n",
    "dfTest = pd.read_csv(\"./test.csv\")\n",
    "answer[\"PassengerId\"] = dfTest[\"PassengerId\"]\n",
    "answer[\"Survived\"] = optimizer.predict(X_final_test)\n",
    "answer.to_csv(\"answer.csv\", index=False)"
   ]
  },
  {
   "cell_type": "code",
   "execution_count": null,
   "metadata": {},
   "outputs": [],
   "source": []
  }
 ],
 "metadata": {
  "language_info": {
   "codemirror_mode": {
    "name": "ipython",
    "version": 3
   },
   "file_extension": ".py",
   "mimetype": "text/x-python",
   "name": "python",
   "nbconvert_exporter": "python",
   "pygments_lexer": "ipython3",
   "version": "3.8.2-final"
  },
  "orig_nbformat": 2,
  "kernelspec": {
   "name": "python38264bit96b614ff5c0f4c49bbe41e9ed87adbdb",
   "display_name": "Python 3.8.2 64-bit"
  }
 },
 "nbformat": 4,
 "nbformat_minor": 2
}